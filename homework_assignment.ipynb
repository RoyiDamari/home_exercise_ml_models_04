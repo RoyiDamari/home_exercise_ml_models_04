{
 "cells": [
  {
   "cell_type": "code",
   "execution_count": 1,
   "id": "3ac0fd64-ba82-4a0c-ba3a-557b2b995114",
   "metadata": {},
   "outputs": [
    {
     "name": "stdout",
     "output_type": "stream",
     "text": [
      "MAE: 0.415\n",
      "MSE: 0.187\n",
      "RMSE: 0.433\n",
      "\n",
      "Manual calculations:\n",
      "MAE: 0.415\n",
      "MSE: 0.187\n",
      "RMSE: 0.433\n"
     ]
    }
   ],
   "source": [
    "import numpy as np\n",
    "from sklearn.metrics import mean_absolute_error, mean_squared_error\n",
    "\n",
    "# Exercise 1\n",
    "\n",
    "y_true = np.array([\n",
    "    10.5, 8.2, 7.3, 15.4, 12.0,\n",
    "    9.8, 6.7, 11.2, 13.5, 9.0,\n",
    "    8.1, 14.2, 10.0, 7.5, 12.8,\n",
    "    9.3, 11.8, 8.9, 10.7, 13.1\n",
    "])\n",
    "\n",
    "# predicted values\n",
    "y_pred = np.array([\n",
    "    11.2, 7.8, 7.0, 16.1, 11.5,\n",
    "    9.5, 7.2, 10.8, 14.0, 8.7,\n",
    "    8.5, 13.9, 10.4, 7.8, 12.5,\n",
    "    9.0, 12.3, 9.4, 11.1, 12.8\n",
    "])\n",
    "\n",
    "# Calculate MAE\n",
    "mae = mean_absolute_error(y_true, y_pred)\n",
    "print(f\"MAE: {mae:.3f}\")\n",
    "\n",
    "# Calculate MSE\n",
    "mse = mean_squared_error(y_true, y_pred)\n",
    "print(f\"MSE: {mse:.3f}\")\n",
    "\n",
    "# Calculate RMSE\n",
    "rmse = np.sqrt(mse)\n",
    "print(f\"RMSE: {rmse:.3f}\")\n",
    "\n",
    "# Calculate manually for verification\n",
    "manual_mae = np.mean(np.abs(y_true - y_pred))\n",
    "manual_mse = np.mean((y_true - y_pred)**2)\n",
    "manual_rmse = np.sqrt(manual_mse)\n",
    "\n",
    "print(\"\\nManual calculations:\")\n",
    "print(f\"MAE: {manual_mae:.3f}\")\n",
    "print(f\"MSE: {manual_mse:.3f}\")\n",
    "print(f\"RMSE: {manual_rmse:.3f}\")"
   ]
  },
  {
   "cell_type": "code",
   "execution_count": 25,
   "id": "fe6d32da-905b-4092-a22e-e5b183c10fe8",
   "metadata": {},
   "outputs": [
    {
     "name": "stdout",
     "output_type": "stream",
     "text": [
      "Model fitted\n",
      "Coefficient: 1.0485\n",
      "Intercept: 0.9333\n",
      "Predictions on new data: [6.17575758]\n",
      "Model saved successfully!\n",
      "\n",
      "Model loaded successfully!\n",
      "Loaded Model Intercept: 0.9333\n",
      "Loaded Model Coefficient: 1.0485\n"
     ]
    },
    {
     "name": "stdin",
     "output_type": "stream",
     "text": [
      "Enter a number:  6\n"
     ]
    },
    {
     "name": "stdout",
     "output_type": "stream",
     "text": [
      "predicted value: [7.22424242]\n"
     ]
    }
   ],
   "source": [
    "from sklearn.linear_model import LinearRegression\n",
    "import joblib\n",
    "\n",
    "# Exercise 2.1\n",
    "\n",
    "# Create simple data with 10 data points\n",
    "X = np.array([1, 2, 3, 4, 5, 6, 7, 8, 9, 10]).reshape(-1, 1)  \n",
    "y = np.array([2, 4, 5, 4, 5, 7, 8, 9, 11, 12])\n",
    "\n",
    "# Fit the model\n",
    "model = LinearRegression()\n",
    "model.fit(X, y)\n",
    "print(\"Model fitted\")\n",
    "print(f\"Coefficient: {model.coef_[0]:.4f}\")\n",
    "print(f\"Intercept: {model.intercept_:.4f}\")\n",
    "\n",
    "new_data = np.array([5]).reshape(-1, 1)\n",
    "new_predictions = model.predict(new_data)\n",
    "print(\"Predictions on new data:\", new_predictions)\n",
    "\n",
    "# Exercise 2.2\n",
    "\n",
    "# Save the model to disk\n",
    "joblib.dump(model, 'linear_regression_model.joblib')\n",
    "print(\"Model saved successfully!\")\n",
    "\n",
    "# Exercise 2.3\n",
    "\n",
    "# Load the model from disk\n",
    "loaded_model = joblib.load('linear_regression_model.joblib')\n",
    "print(\"\\nModel loaded successfully!\")\n",
    "\n",
    "# Verify the loaded model has the same coefficients\n",
    "print(f\"Loaded Model Intercept: {loaded_model.intercept_:.4f}\")\n",
    "print(f\"Loaded Model Coefficient: {loaded_model.coef_[0]:.4f}\")\n",
    "\n",
    "# Ask the user to input a number for prediction\n",
    "user_input = float(input(\"Enter a number: \"))\n",
    "user_data = np.array([user_input]).reshape(-1, 1)\n",
    "\n",
    "# Make predictions using the loaded model\n",
    "y_pred = loaded_model.predict(user_data)\n",
    "print(\"predicted value:\", y_pred)\n",
    "\n",
    "# Exercise 2.4\n",
    "\n",
    "# we don't need to add code that scales before prediction becouse in Pipeline its done automatically."
   ]
  },
  {
   "cell_type": "code",
   "execution_count": null,
   "id": "34732cec-2ab3-4370-8045-5f803825c448",
   "metadata": {},
   "outputs": [],
   "source": [
    "# Exercise 3\n",
    "\n",
    "# question 1\n",
    "# L2 regularization (Ridge) - reduces model complexity and stabilizes the model by making it less sensitive to small changes in the data.\n",
    "# Ridge is particularly good at addressing overfitting, especially when all features are useful but the model needs smoothing.\n",
    "\n",
    "# question 2\n",
    "# L1 regularization (Lasso) - causes the optimization to shrink some coefficients exactly to 0, effectively removing irrelevant features from the model."
   ]
  },
  {
   "cell_type": "code",
   "execution_count": null,
   "id": "343c652f-88b2-4f6a-a487-1b9e2bf7329a",
   "metadata": {},
   "outputs": [],
   "source": [
    "# Exercise 4\n",
    "\n",
    "# The underfit is in the left side of the graph where the MSE is hige for the training and the test data\n",
    "# The overfit is in the right side of the graph where the MSE is small for the training data as the model complexity get larger and the MSE is high for the test data.\n",
    "# The ideal area is between the two dotted line where the error on the test data stabilizes after the decline before changing direction and start to rise."
   ]
  }
 ],
 "metadata": {
  "kernelspec": {
   "display_name": "Python 3 (ipykernel)",
   "language": "python",
   "name": "python3"
  },
  "language_info": {
   "codemirror_mode": {
    "name": "ipython",
    "version": 3
   },
   "file_extension": ".py",
   "mimetype": "text/x-python",
   "name": "python",
   "nbconvert_exporter": "python",
   "pygments_lexer": "ipython3",
   "version": "3.12.7"
  }
 },
 "nbformat": 4,
 "nbformat_minor": 5
}
